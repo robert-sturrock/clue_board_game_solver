{
  "nbformat": 4,
  "nbformat_minor": 0,
  "metadata": {
    "colab": {
      "name": "Clue board game solver - explaination + game template.ipynb",
      "provenance": [],
      "collapsed_sections": [],
      "toc_visible": true,
      "authorship_tag": "ABX9TyOGoGRwY60mkwK5hHzIVY1d",
      "include_colab_link": true
    },
    "kernelspec": {
      "display_name": "Python 3",
      "name": "python3"
    }
  },
  "cells": [
    {
      "cell_type": "markdown",
      "metadata": {
        "id": "view-in-github",
        "colab_type": "text"
      },
      "source": [
        "<a href=\"https://colab.research.google.com/github/robert-sturrock/clue_boardgame_solver/blob/main/Clue_board_game_solver_explaination_%2B_game_template.ipynb\" target=\"_parent\"><img src=\"https://colab.research.google.com/assets/colab-badge.svg\" alt=\"Open In Colab\"/></a>"
      ]
    },
    {
      "cell_type": "markdown",
      "metadata": {
        "id": "W5moDTlc3AER"
      },
      "source": [
        "# Clue boardgame assistant\r\n",
        "\r\n",
        "Aim is to create a tool that successfully performs most of the reasoning for you in Clue."
      ]
    },
    {
      "cell_type": "code",
      "metadata": {
        "id": "RHmKTe7T3D9Q"
      },
      "source": [
        "#@title Set up code here{display-mode: \"form\"} \n",
        "import numpy as np\n",
        "import matplotlib as m\n",
        "import matplotlib.pyplot as plt\n",
        "from tqdm.notebook import tqdm\n",
        "import copy\n",
        "\n",
        "import re as re\n",
        "import pandas as pd\n",
        "import unicodedata \n",
        "import requests\n",
        "import seaborn as sns\n",
        "%matplotlib inline"
      ],
      "execution_count": 17,
      "outputs": []
    },
    {
      "cell_type": "markdown",
      "metadata": {
        "id": "NjC9zyP25LIx"
      },
      "source": [
        "## Create base clue object"
      ]
    },
    {
      "cell_type": "markdown",
      "metadata": {
        "id": "Yl0L7EtJYMy3"
      },
      "source": [
        "### Hand object\r\n",
        "\r\n",
        "Set up what each players hand can contain."
      ]
    },
    {
      "cell_type": "code",
      "metadata": {
        "id": "spOYRZn05N1d"
      },
      "source": [
        "class Hand:\r\n",
        "\r\n",
        "  def __init__(self):\r\n",
        "    # add base features:\r\n",
        "    self.characters = {'mustard':[None,[]], \r\n",
        "                       'plum':[None,[]], \r\n",
        "                       'green':[None,[]], \r\n",
        "                       'peacock':[None,[]], \r\n",
        "                       'scarlet':[None,[]], \r\n",
        "                       'white':[None,[]]\r\n",
        "                       }\r\n",
        "    self.weapons = {'knife':[None,[]],\r\n",
        "                    'candlestick':[None,[]], \r\n",
        "                    'revolver':[None,[]], \r\n",
        "                    'rope':[None,[]], \r\n",
        "                    'lead pipe':[None,[]], \r\n",
        "                    'wrench':[None,[]]\r\n",
        "                    }\r\n",
        "    self.rooms = {'hall':[None,[]],\r\n",
        "                  'lounge':[None,[]], \r\n",
        "                  'dining room':[None,[]], \r\n",
        "                  'kitchen':[None,[]],\r\n",
        "                  'ballroom':[None,[]], \r\n",
        "                  'conservatory':[None,[]],\r\n",
        "                  'billiard room':[None,[]],\r\n",
        "                  'library':[None,[]],\r\n",
        "                  'study':[None,[]],\r\n",
        "                  }\r\n",
        "    self.moves = []\r\n",
        "\r\n",
        "  def initial_cards(self, initial_cards):\r\n",
        "    # use this to initialize your hand (where you have full knowledge of cards)\r\n",
        "    for group in [self.characters, self.weapons, self.rooms]:  \r\n",
        "      for (key,val) in group.items():\r\n",
        "        if key in initial_cards:\r\n",
        "          group[key][0] = 1\r\n",
        "        else:\r\n",
        "          group[key][0] = 0\r\n",
        "\r\n",
        "  def round(self, move):\r\n",
        "    self.moves.append(move)"
      ],
      "execution_count": 18,
      "outputs": []
    },
    {
      "cell_type": "markdown",
      "metadata": {
        "id": "2x8efLqUR1MD"
      },
      "source": [
        "### Clue_Game Object\r\n",
        "\r\n",
        "Holds multiple hands (ie your representation, as a player, of what you and everyone else is holding). It will also hold the \"move\" method that runs eliminations and so on. \r\n",
        "\r\n",
        "If you get to a place where a card has been eliminated from every other players hand then you can conclude that that card is in the envelope (ie was involved in the murder). \r\n",
        "\r\n"
      ]
    },
    {
      "cell_type": "code",
      "metadata": {
        "id": "IPRaA8qmx6qC"
      },
      "source": [
        "class Clue_Game:\r\n",
        "\r\n",
        "  def __init__(self, players, initial_cards):\r\n",
        "    # always list yourself as first  **TO DO**: maybe use a specific name like \"self\" and then name opponents\r\n",
        "    self.players = players\r\n",
        "    self.moves = []\r\n",
        "    self.hands = []\r\n",
        "    self.partial_info_number = 0\r\n",
        "    \r\n",
        "    # last turn values\r\n",
        "    self.hands_prev = []\r\n",
        "    self.moves_prev = []\r\n",
        "    self.partial_info_number_prev = []\r\n",
        "\r\n",
        "    # initiate Hands:\r\n",
        "    for player in self.players:\r\n",
        "      hand = {'player':player, 'hand':Hand()}\r\n",
        "      \r\n",
        "      if player == 'self':\r\n",
        "        hand['hand'].initial_cards(initial_cards)\r\n",
        "\r\n",
        "      if player != 'self':\r\n",
        "        for group in [hand['hand'].characters, hand['hand'].weapons, hand['hand'].rooms]:  \r\n",
        "          for (key,val) in group.items():\r\n",
        "            if key in initial_cards:\r\n",
        "              group[key][0] = 0   \r\n",
        "                   \r\n",
        "      self.hands.append(hand)\r\n",
        "  \r\n",
        "  def players_involved(self, player, responder):\r\n",
        "    if responder == None:\r\n",
        "      return [p for p in self.players if p != player]\r\n",
        "    else:\r\n",
        "      start, end = [self.players.index(x) for x in [player, responder]]\r\n",
        "      if start <= end:\r\n",
        "          return self.players[start:end+1]\r\n",
        "      else:\r\n",
        "          return self.players[start:] + self.players[:end+1]\r\n",
        "  \r\n",
        "  def eliminate_non_response(self, player, person, weapon, room):\r\n",
        "    # for a specific player eliminate a person and weapon\r\n",
        "    for hand in self.hands:\r\n",
        "        if hand['player'] == player:\r\n",
        "          hand['hand'].characters[person][0] = 0\r\n",
        "          hand['hand'].weapons[weapon][0] = 0\r\n",
        "          hand['hand'].rooms[room][0] = 0\r\n",
        "  \r\n",
        "  def player_has_card(self, card, responder):\r\n",
        "    # identify if we know that a responder (with hidden response) is holding one \r\n",
        "    # of the cards that they have been asked about.\r\n",
        "    has_card = 0\r\n",
        "    for hand in self.hands:\r\n",
        "      if hand['player'] == responder:\r\n",
        "        for group in [hand['hand'].characters, hand['hand'].weapons, hand['hand'].rooms]:  \r\n",
        "          for (key,val) in group.items():\r\n",
        "            if key in [card] and group[key][0] == 1:\r\n",
        "              has_card += 1\r\n",
        "    return has_card\r\n",
        "\r\n",
        "  def record_response(self, player, person, weapon, room, responder=None, response=None):\r\n",
        "\r\n",
        "    # record what the response is  if you are told\r\n",
        "    if response not in [None,'hidden']:\r\n",
        "      for hand in self.hands:\r\n",
        "        if hand['player'] == responder:\r\n",
        "          for group in [hand['hand'].characters, hand['hand'].weapons, hand['hand'].rooms]: \r\n",
        "              for (key,val) in group.items():\r\n",
        "                if key == response:\r\n",
        "                  group[key][0] = 1\r\n",
        "      \r\n",
        "        # eliminate the option for everyone else\r\n",
        "        if hand['player'] != responder:\r\n",
        "          for group in [hand['hand'].characters, hand['hand'].weapons, hand['hand'].rooms]:  \r\n",
        "            for (key,val) in group.items():\r\n",
        "              if key == response:\r\n",
        "                group[key][0] = 0\r\n",
        "                group[key][1] = []\r\n",
        "\r\n",
        "    # record the clues as to the response if you don't see it \r\n",
        "    # partial_info_number indicates what options are possibilities\r\n",
        "    if response == 'hidden':\r\n",
        "      has_card = 0\r\n",
        "      for card in [person, weapon, room]:\r\n",
        "        has_card += self.player_has_card(card, responder)\r\n",
        "      # if player doesn't have any of the cards in their hand then we can record a partial info number\r\n",
        "      if has_card == 0:\r\n",
        "        for hand in self.hands:\r\n",
        "          if hand['player'] == responder:\r\n",
        "            for group in [hand['hand'].characters, hand['hand'].weapons, hand['hand'].rooms]:  \r\n",
        "              for (key,val) in group.items():\r\n",
        "                if key in [person, weapon, room] and group[key][0] not in [0,1]:\r\n",
        "                  group[key][1].append(tmp.partial_info_number)\r\n",
        "\r\n",
        "        \r\n",
        "      # increment info number\r\n",
        "      self.partial_info_number += 1\r\n",
        "\r\n",
        "  def check_for_eliminations(self):\r\n",
        "    last_item_found = None\r\n",
        "    # look for cases where partial_info_numbers cancel out revealing true answer\r\n",
        "    hand_checks = 1\r\n",
        "    while hand_checks > 0:\r\n",
        "      for hand in self.hands:\r\n",
        "        # for each partial info number look at each hand and count up instances\r\n",
        "        for number in range(self.partial_info_number):\r\n",
        "          check_pin_count = 0 \r\n",
        "\r\n",
        "          for group in [hand['hand'].characters, hand['hand'].weapons, hand['hand'].rooms]:  \r\n",
        "            for (key,val) in group.items():\r\n",
        "              if number in group[key][1]:\r\n",
        "                check_pin_count += 1\r\n",
        "        \r\n",
        "          # if instances = 1 then indicate player has that card\r\n",
        "          # *Note*: we don't remove partial info number for a 1, as there is\r\n",
        "          # a possibility that player doesn't have the other card\r\n",
        "          # (this will only happen once per partial_info_number)\r\n",
        "          if check_pin_count == 1:\r\n",
        "            for group in [hand['hand'].characters, hand['hand'].weapons, hand['hand'].rooms]:  \r\n",
        "              for (key,val) in group.items():\r\n",
        "                if number in group[key][1]:\r\n",
        "                  group[key][0] = 1\r\n",
        "                  group[key][1].remove(number)\r\n",
        "                  # record card found and player it belongs to\r\n",
        "                  last_item_found = key\r\n",
        "                  player_item_found = hand['player']\r\n",
        "                  hand_checks += 1\r\n",
        "\r\n",
        "      # eliminate newly found card/item from other hands\r\n",
        "      for hand in self.hands:         \r\n",
        "        for group in [hand['hand'].characters, hand['hand'].weapons, hand['hand'].rooms]:  \r\n",
        "          for (key,val) in group.items():\r\n",
        "            if key == last_item_found and hand['player'] != player_item_found:\r\n",
        "              group[key][0] = 0\r\n",
        "              group[key][1] = []\r\n",
        "\r\n",
        "      hand_checks -=1\r\n",
        " \r\n",
        "  def move(self, player, person, weapon, room, responder=None, response=None):\r\n",
        "    \r\n",
        "    # back up previous hand states\r\n",
        "    self.hands_prev = copy.deepcopy(self.hands)\r\n",
        "    self.moves_prev = copy.deepcopy(self.moves)\r\n",
        "    self.partial_info_number_prev = copy.copy(self.partial_info_number)\r\n",
        "\r\n",
        "    # global  = list(self.moves)\r\n",
        "\r\n",
        "    # record move\r\n",
        "    rec = {'player':player, 'person':person, 'weapon':weapon, 'room':room,\r\n",
        "           'responder':responder, 'response':response}\r\n",
        "    self.moves.append(rec)\r\n",
        "\r\n",
        "    # establish players involved\r\n",
        "    players_involved = self.players_involved(player, responder)\r\n",
        "\r\n",
        "    # eliminate options on players that didn't play\r\n",
        "    no_match_players = list(set(players_involved) - set([player,responder]))\r\n",
        "    for p in no_match_players:\r\n",
        "      self.eliminate_non_response(p, person, weapon, room)\r\n",
        "\r\n",
        "    # record information learned from the response or lack of\r\n",
        "    self.record_response(player, person, weapon, room, responder, response)\r\n",
        "\r\n",
        "    # look for possible eliminations\r\n",
        "    self.check_for_eliminations()\r\n",
        "\r\n",
        "  def hand_status(self):\r\n",
        "    '''Get a dataframe of current hand information for all players'''\r\n",
        "    # records \r\n",
        "    hand_records = []\r\n",
        "    partial_info_records = []\r\n",
        "    for hand in self.hands:\r\n",
        "      player = hand['player']\r\n",
        "      hc = pd.DataFrame(hand['hand'].characters)\r\n",
        "      hw = pd.DataFrame(hand['hand'].weapons)\r\n",
        "      hr = pd.DataFrame(hand['hand'].rooms)\r\n",
        "      # store card knowledge and partial knowledge\r\n",
        "      hand_col = pd.concat([hc,hw,hr],axis=1).loc[0]\r\n",
        "      partial_info_col = pd.concat([hc,hw,hr],axis=1).loc[1]\r\n",
        "      hand_col['player'] = player\r\n",
        "      partial_info_col['player'] = player\r\n",
        "      # record info for player\r\n",
        "      hand_records.append(hand_col)\r\n",
        "      partial_info_records.append(partial_info_col)\r\n",
        "  \r\n",
        "    return [pd.DataFrame(hand_records).set_index('player').transpose(),\r\n",
        "            pd.DataFrame(partial_info_records).set_index('player').transpose()]\r\n",
        "\r\n",
        "  def moves_hist(self):\r\n",
        "    '''readable dataframe of moves'''\r\n",
        "    return pd.DataFrame(self.moves)\r\n",
        "\r\n",
        "  def remove_last_move(self):\r\n",
        "    '''Use this to correct an incorrect move'''\r\n",
        "    self.moves = copy.deepcopy(self.moves_prev)\r\n",
        "    self.hands = copy.deepcopy(self.hands_prev)\r\n",
        "    self.partial_info_number = copy.copy(self.partial_info_number_prev)\r\n",
        "    \r\n"
      ],
      "execution_count": 19,
      "outputs": []
    },
    {
      "cell_type": "markdown",
      "metadata": {
        "id": "hlA6zvRik-MA"
      },
      "source": [
        "## The basics / example game: \r\n",
        "\r\n",
        "There are a few key methods you will use to make use of the solver: \r\n",
        "* .move(player, person, weapon, room, responder, response): \r\n",
        "    * player: who is asking / accusing this round\r\n",
        "    * person: which character is being accused (eg. 'plum')\r\n",
        "    * weapon: weapon that was used (eg. 'knife')\r\n",
        "    * room: place it happened (eg. 'hall')\r\n",
        "    * responder: which player responded, can be 'None' if no one has a matching card\r\n",
        "    * response: either the card shown if you are the asker (eg. 'hall') or 'hidden' if you do not see what is shown\r\n",
        "* .hand_status(): will give you two print outs. The first covers what is known for certain about the hands (0 and 1 for has or does not have, None / NaN for no information known yet). The second gives you 'partial info' about what is known (ie if you saw *player 1* ask about ('plum','knife','hall') and you saw *player 2* respond then it will place a number next to 'plum','knife',and 'hall'. If you learn that 'plum' is in *player 1*'s hand and 'knife' is in *player 3*'s hand then it will conclude that 'hall' must have been in *player 2*'s hand. These eliminations are some of the main value add of the solver. \r\n",
        "\r\n",
        "* remove_last_move(): removes the last move (helpful if you made a typo)\r\n",
        "\r\n",
        "* moves_hist(): shows you a record of all moves played in a game."
      ]
    },
    {
      "cell_type": "markdown",
      "metadata": {
        "id": "oKSTVGLI7uqa"
      },
      "source": [
        "Here is how things look:\r\n",
        "\r\n",
        "First you create the game like this:\r\n",
        "* **players**: the names you want to use, make sure players are in the order they play in (this is used in ruling out cards from players hands)\r\n",
        "* **initial cards**: what were your initial cards"
      ]
    },
    {
      "cell_type": "code",
      "metadata": {
        "id": "oabFZb2074AN"
      },
      "source": [
        "# Create the game:\r\n",
        "tmp = Clue_Game(players = ['self','dad','mom','isabel'], \r\n",
        "                initial_cards=['white','peacock','green','conservatory'])"
      ],
      "execution_count": 20,
      "outputs": []
    },
    {
      "cell_type": "markdown",
      "metadata": {
        "id": "xHoOksWB8RzK"
      },
      "source": [
        "Show all the information you know: (less nice visual)"
      ]
    },
    {
      "cell_type": "code",
      "metadata": {
        "colab": {
          "base_uri": "https://localhost:8080/"
        },
        "id": "99h0IJvQ72XI",
        "outputId": "65ef91b8-7f5e-4e58-e81a-62a725a52378"
      },
      "source": [
        "tmp.hand_status()"
      ],
      "execution_count": 21,
      "outputs": [
        {
          "output_type": "execute_result",
          "data": {
            "text/plain": [
              "[player         self  dad  mom  isabel\n",
              " mustard         0.0  NaN  NaN     NaN\n",
              " plum            0.0  NaN  NaN     NaN\n",
              " green           1.0  0.0  0.0     0.0\n",
              " peacock         1.0  0.0  0.0     0.0\n",
              " scarlet         0.0  NaN  NaN     NaN\n",
              " white           1.0  0.0  0.0     0.0\n",
              " knife           0.0  NaN  NaN     NaN\n",
              " candlestick     0.0  NaN  NaN     NaN\n",
              " revolver        0.0  NaN  NaN     NaN\n",
              " rope            0.0  NaN  NaN     NaN\n",
              " lead pipe       0.0  NaN  NaN     NaN\n",
              " wrench          0.0  NaN  NaN     NaN\n",
              " hall            0.0  NaN  NaN     NaN\n",
              " lounge          0.0  NaN  NaN     NaN\n",
              " dining room     0.0  NaN  NaN     NaN\n",
              " kitchen         0.0  NaN  NaN     NaN\n",
              " ballroom        0.0  NaN  NaN     NaN\n",
              " conservatory    1.0  0.0  0.0     0.0\n",
              " billiard room   0.0  NaN  NaN     NaN\n",
              " library         0.0  NaN  NaN     NaN\n",
              " study           0.0  NaN  NaN     NaN, player        self dad mom isabel\n",
              " mustard         []  []  []     []\n",
              " plum            []  []  []     []\n",
              " green           []  []  []     []\n",
              " peacock         []  []  []     []\n",
              " scarlet         []  []  []     []\n",
              " white           []  []  []     []\n",
              " knife           []  []  []     []\n",
              " candlestick     []  []  []     []\n",
              " revolver        []  []  []     []\n",
              " rope            []  []  []     []\n",
              " lead pipe       []  []  []     []\n",
              " wrench          []  []  []     []\n",
              " hall            []  []  []     []\n",
              " lounge          []  []  []     []\n",
              " dining room     []  []  []     []\n",
              " kitchen         []  []  []     []\n",
              " ballroom        []  []  []     []\n",
              " conservatory    []  []  []     []\n",
              " billiard room   []  []  []     []\n",
              " library         []  []  []     []\n",
              " study           []  []  []     []]"
            ]
          },
          "metadata": {
            "tags": []
          },
          "execution_count": 21
        }
      ]
    },
    {
      "cell_type": "markdown",
      "metadata": {
        "id": "Jk2dZFvz8XzY"
      },
      "source": [
        "Just show information you are certain about:"
      ]
    },
    {
      "cell_type": "code",
      "metadata": {
        "colab": {
          "base_uri": "https://localhost:8080/",
          "height": 688
        },
        "id": "hHtui4d6nUku",
        "outputId": "578cfaa6-4caa-4714-ab38-f09c6c625dd8"
      },
      "source": [
        "tmp.hand_status()[0]"
      ],
      "execution_count": 22,
      "outputs": [
        {
          "output_type": "execute_result",
          "data": {
            "text/html": [
              "<div>\n",
              "<style scoped>\n",
              "    .dataframe tbody tr th:only-of-type {\n",
              "        vertical-align: middle;\n",
              "    }\n",
              "\n",
              "    .dataframe tbody tr th {\n",
              "        vertical-align: top;\n",
              "    }\n",
              "\n",
              "    .dataframe thead th {\n",
              "        text-align: right;\n",
              "    }\n",
              "</style>\n",
              "<table border=\"1\" class=\"dataframe\">\n",
              "  <thead>\n",
              "    <tr style=\"text-align: right;\">\n",
              "      <th>player</th>\n",
              "      <th>self</th>\n",
              "      <th>dad</th>\n",
              "      <th>mom</th>\n",
              "      <th>isabel</th>\n",
              "    </tr>\n",
              "  </thead>\n",
              "  <tbody>\n",
              "    <tr>\n",
              "      <th>mustard</th>\n",
              "      <td>0.0</td>\n",
              "      <td>NaN</td>\n",
              "      <td>NaN</td>\n",
              "      <td>NaN</td>\n",
              "    </tr>\n",
              "    <tr>\n",
              "      <th>plum</th>\n",
              "      <td>0.0</td>\n",
              "      <td>NaN</td>\n",
              "      <td>NaN</td>\n",
              "      <td>NaN</td>\n",
              "    </tr>\n",
              "    <tr>\n",
              "      <th>green</th>\n",
              "      <td>1.0</td>\n",
              "      <td>0.0</td>\n",
              "      <td>0.0</td>\n",
              "      <td>0.0</td>\n",
              "    </tr>\n",
              "    <tr>\n",
              "      <th>peacock</th>\n",
              "      <td>1.0</td>\n",
              "      <td>0.0</td>\n",
              "      <td>0.0</td>\n",
              "      <td>0.0</td>\n",
              "    </tr>\n",
              "    <tr>\n",
              "      <th>scarlet</th>\n",
              "      <td>0.0</td>\n",
              "      <td>NaN</td>\n",
              "      <td>NaN</td>\n",
              "      <td>NaN</td>\n",
              "    </tr>\n",
              "    <tr>\n",
              "      <th>white</th>\n",
              "      <td>1.0</td>\n",
              "      <td>0.0</td>\n",
              "      <td>0.0</td>\n",
              "      <td>0.0</td>\n",
              "    </tr>\n",
              "    <tr>\n",
              "      <th>knife</th>\n",
              "      <td>0.0</td>\n",
              "      <td>NaN</td>\n",
              "      <td>NaN</td>\n",
              "      <td>NaN</td>\n",
              "    </tr>\n",
              "    <tr>\n",
              "      <th>candlestick</th>\n",
              "      <td>0.0</td>\n",
              "      <td>NaN</td>\n",
              "      <td>NaN</td>\n",
              "      <td>NaN</td>\n",
              "    </tr>\n",
              "    <tr>\n",
              "      <th>revolver</th>\n",
              "      <td>0.0</td>\n",
              "      <td>NaN</td>\n",
              "      <td>NaN</td>\n",
              "      <td>NaN</td>\n",
              "    </tr>\n",
              "    <tr>\n",
              "      <th>rope</th>\n",
              "      <td>0.0</td>\n",
              "      <td>NaN</td>\n",
              "      <td>NaN</td>\n",
              "      <td>NaN</td>\n",
              "    </tr>\n",
              "    <tr>\n",
              "      <th>lead pipe</th>\n",
              "      <td>0.0</td>\n",
              "      <td>NaN</td>\n",
              "      <td>NaN</td>\n",
              "      <td>NaN</td>\n",
              "    </tr>\n",
              "    <tr>\n",
              "      <th>wrench</th>\n",
              "      <td>0.0</td>\n",
              "      <td>NaN</td>\n",
              "      <td>NaN</td>\n",
              "      <td>NaN</td>\n",
              "    </tr>\n",
              "    <tr>\n",
              "      <th>hall</th>\n",
              "      <td>0.0</td>\n",
              "      <td>NaN</td>\n",
              "      <td>NaN</td>\n",
              "      <td>NaN</td>\n",
              "    </tr>\n",
              "    <tr>\n",
              "      <th>lounge</th>\n",
              "      <td>0.0</td>\n",
              "      <td>NaN</td>\n",
              "      <td>NaN</td>\n",
              "      <td>NaN</td>\n",
              "    </tr>\n",
              "    <tr>\n",
              "      <th>dining room</th>\n",
              "      <td>0.0</td>\n",
              "      <td>NaN</td>\n",
              "      <td>NaN</td>\n",
              "      <td>NaN</td>\n",
              "    </tr>\n",
              "    <tr>\n",
              "      <th>kitchen</th>\n",
              "      <td>0.0</td>\n",
              "      <td>NaN</td>\n",
              "      <td>NaN</td>\n",
              "      <td>NaN</td>\n",
              "    </tr>\n",
              "    <tr>\n",
              "      <th>ballroom</th>\n",
              "      <td>0.0</td>\n",
              "      <td>NaN</td>\n",
              "      <td>NaN</td>\n",
              "      <td>NaN</td>\n",
              "    </tr>\n",
              "    <tr>\n",
              "      <th>conservatory</th>\n",
              "      <td>1.0</td>\n",
              "      <td>0.0</td>\n",
              "      <td>0.0</td>\n",
              "      <td>0.0</td>\n",
              "    </tr>\n",
              "    <tr>\n",
              "      <th>billiard room</th>\n",
              "      <td>0.0</td>\n",
              "      <td>NaN</td>\n",
              "      <td>NaN</td>\n",
              "      <td>NaN</td>\n",
              "    </tr>\n",
              "    <tr>\n",
              "      <th>library</th>\n",
              "      <td>0.0</td>\n",
              "      <td>NaN</td>\n",
              "      <td>NaN</td>\n",
              "      <td>NaN</td>\n",
              "    </tr>\n",
              "    <tr>\n",
              "      <th>study</th>\n",
              "      <td>0.0</td>\n",
              "      <td>NaN</td>\n",
              "      <td>NaN</td>\n",
              "      <td>NaN</td>\n",
              "    </tr>\n",
              "  </tbody>\n",
              "</table>\n",
              "</div>"
            ],
            "text/plain": [
              "player         self  dad  mom  isabel\n",
              "mustard         0.0  NaN  NaN     NaN\n",
              "plum            0.0  NaN  NaN     NaN\n",
              "green           1.0  0.0  0.0     0.0\n",
              "peacock         1.0  0.0  0.0     0.0\n",
              "scarlet         0.0  NaN  NaN     NaN\n",
              "white           1.0  0.0  0.0     0.0\n",
              "knife           0.0  NaN  NaN     NaN\n",
              "candlestick     0.0  NaN  NaN     NaN\n",
              "revolver        0.0  NaN  NaN     NaN\n",
              "rope            0.0  NaN  NaN     NaN\n",
              "lead pipe       0.0  NaN  NaN     NaN\n",
              "wrench          0.0  NaN  NaN     NaN\n",
              "hall            0.0  NaN  NaN     NaN\n",
              "lounge          0.0  NaN  NaN     NaN\n",
              "dining room     0.0  NaN  NaN     NaN\n",
              "kitchen         0.0  NaN  NaN     NaN\n",
              "ballroom        0.0  NaN  NaN     NaN\n",
              "conservatory    1.0  0.0  0.0     0.0\n",
              "billiard room   0.0  NaN  NaN     NaN\n",
              "library         0.0  NaN  NaN     NaN\n",
              "study           0.0  NaN  NaN     NaN"
            ]
          },
          "metadata": {
            "tags": []
          },
          "execution_count": 22
        }
      ]
    },
    {
      "cell_type": "markdown",
      "metadata": {
        "id": "48Rl7iid7t_c"
      },
      "source": [
        "Game starts, enter a move:\r\n",
        "\r\n",
        "The moves below were a full game in Clue."
      ]
    },
    {
      "cell_type": "code",
      "metadata": {
        "id": "5ayR99z3q61q"
      },
      "source": [
        "tmp.move(player='dad',person='scarlet',weapon='lead pipe',room='lounge',\r\n",
        "         responder='mom',response='hidden')"
      ],
      "execution_count": 23,
      "outputs": []
    },
    {
      "cell_type": "code",
      "metadata": {
        "id": "J8cufM58rx0x"
      },
      "source": [
        "tmp.move(player='mom',person='plum',weapon='knife',room='conservatory',\r\n",
        "         responder='self',response='conservatory')"
      ],
      "execution_count": 24,
      "outputs": []
    },
    {
      "cell_type": "code",
      "metadata": {
        "id": "aqYQwi29sJE-"
      },
      "source": [
        "tmp.move(player='isabel',person='plum',weapon='knife',room='billiard room',\r\n",
        "         responder='dad',response='hidden')"
      ],
      "execution_count": 25,
      "outputs": []
    },
    {
      "cell_type": "code",
      "metadata": {
        "id": "E7tSE9P6sdyG"
      },
      "source": [
        "tmp.move(player='self',person='white',weapon='lead pipe',room='study',\r\n",
        "         responder='dad',response='lead pipe')"
      ],
      "execution_count": 26,
      "outputs": []
    },
    {
      "cell_type": "code",
      "metadata": {
        "id": "HMIKQYNqtWPk"
      },
      "source": [
        "tmp.move(player='dad',person='scarlet',weapon='lead pipe',room='conservatory',\r\n",
        "         responder='self',response='conservatory')"
      ],
      "execution_count": 27,
      "outputs": []
    },
    {
      "cell_type": "code",
      "metadata": {
        "id": "q1Hy4eA2tv2a"
      },
      "source": [
        "tmp.move(player='mom',person='scarlet',weapon='revolver',room='lounge',\r\n",
        "         responder='dad',response='hidden')"
      ],
      "execution_count": 28,
      "outputs": []
    },
    {
      "cell_type": "code",
      "metadata": {
        "id": "xUGgZxYCuTv5"
      },
      "source": [
        "tmp.move(player='isabel',person='scarlet',weapon='revolver',room='ballroom',\r\n",
        "         responder='dad',response='hidden')"
      ],
      "execution_count": 29,
      "outputs": []
    },
    {
      "cell_type": "code",
      "metadata": {
        "id": "x5D-gDGgvEjq"
      },
      "source": [
        "tmp.move(player='self',person='scarlet',weapon='revolver',room='study',\r\n",
        "         responder='dad',response='scarlet')"
      ],
      "execution_count": 30,
      "outputs": []
    },
    {
      "cell_type": "code",
      "metadata": {
        "id": "rQeR1s80vaRC"
      },
      "source": [
        "tmp.move(player='dad',person='mustard',weapon='candlestick',room='ballroom',\r\n",
        "         responder='mom',response='hidden')"
      ],
      "execution_count": 31,
      "outputs": []
    },
    {
      "cell_type": "code",
      "metadata": {
        "id": "IcaCURhWwFYs"
      },
      "source": [
        "tmp.move(player='mom',person='plum',weapon='knife',room='conservatory',\r\n",
        "         responder='self',response='conservatory')"
      ],
      "execution_count": 32,
      "outputs": []
    },
    {
      "cell_type": "code",
      "metadata": {
        "id": "eiSnDdrMwUFh"
      },
      "source": [
        "tmp.move(player='isabel',person='white',weapon='revolver',room='hall',\r\n",
        "         responder='self',response='white')"
      ],
      "execution_count": 33,
      "outputs": []
    },
    {
      "cell_type": "code",
      "metadata": {
        "id": "uC6LN4-zwd-j"
      },
      "source": [
        "tmp.move(player='self',person='green',weapon='revolver',room='ballroom',\r\n",
        "         responder='mom',response='ballroom')"
      ],
      "execution_count": 34,
      "outputs": []
    },
    {
      "cell_type": "code",
      "metadata": {
        "id": "O6LIGcq6xJ35"
      },
      "source": [
        "tmp.move(player='dad',person='mustard',weapon='rope',room='ballroom',\r\n",
        "         responder='mom',response='hidden')"
      ],
      "execution_count": 35,
      "outputs": []
    },
    {
      "cell_type": "code",
      "metadata": {
        "id": "qv1pPRfzxz-u"
      },
      "source": [
        "tmp.move(player='mom',person='plum',weapon='rope',room='dining room',\r\n",
        "         responder='isabel',response='hidden')"
      ],
      "execution_count": 36,
      "outputs": []
    },
    {
      "cell_type": "code",
      "metadata": {
        "id": "tGpv4E0Sx8vD"
      },
      "source": [
        "tmp.move(player='isabel',person='green',weapon='candlestick',room='dining room',\r\n",
        "         responder='self',response='green')"
      ],
      "execution_count": 37,
      "outputs": []
    },
    {
      "cell_type": "code",
      "metadata": {
        "id": "TnwzPpF-yINs"
      },
      "source": [
        "tmp.move(player='self',person='green',weapon='candlestick',room='dining room',\r\n",
        "         responder='mom',response='candlestick')"
      ],
      "execution_count": 38,
      "outputs": []
    },
    {
      "cell_type": "code",
      "metadata": {
        "id": "vV4EV1xzypDO"
      },
      "source": [
        "tmp.move(player='dad',person='peacock',weapon='wrench',room='ballroom',\r\n",
        "         responder='mom',response='hidden')"
      ],
      "execution_count": 39,
      "outputs": []
    },
    {
      "cell_type": "code",
      "metadata": {
        "id": "pmRkEV70y-Mw"
      },
      "source": [
        "tmp.move(player='mom',person='plum',weapon='candlestick',room='dining room',\r\n",
        "         responder=None,response=None)"
      ],
      "execution_count": 40,
      "outputs": []
    },
    {
      "cell_type": "code",
      "metadata": {
        "id": "HLt9jxo0zZ6a"
      },
      "source": [
        "tmp.move(player='isabel',person='peacock',weapon='lead pipe',room='ballroom',\r\n",
        "         responder='self',response='peacock')"
      ],
      "execution_count": 41,
      "outputs": []
    },
    {
      "cell_type": "code",
      "metadata": {
        "id": "UJ7hHFWrzlqi"
      },
      "source": [
        "tmp.move(player='self',person='peacock',weapon='revolver',room='dining room',\r\n",
        "         responder=None,response=None)"
      ],
      "execution_count": 42,
      "outputs": []
    },
    {
      "cell_type": "markdown",
      "metadata": {
        "id": "HYYyOmK89a4-"
      },
      "source": [
        "If you look at what we know at this point you'll see two options now can't be in anyone's hand: \r\n",
        "'dining room' and 'revolver:\r\n",
        "\r\n",
        "Moreover, because 'mom' got a non response a few turns ago on 'plum' - and I knew she had 'candlestick' already I took a guess that she didn't have 'plum' and made a formal accusation at this point - which was a bit of a gamble but worked out."
      ]
    },
    {
      "cell_type": "code",
      "metadata": {
        "colab": {
          "base_uri": "https://localhost:8080/",
          "height": 688
        },
        "id": "j26P8Ma19gWJ",
        "outputId": "94f1d309-a511-4595-a1dd-bf8f44d620a9"
      },
      "source": [
        "tmp.hand_status()[0]"
      ],
      "execution_count": 44,
      "outputs": [
        {
          "output_type": "execute_result",
          "data": {
            "text/html": [
              "<div>\n",
              "<style scoped>\n",
              "    .dataframe tbody tr th:only-of-type {\n",
              "        vertical-align: middle;\n",
              "    }\n",
              "\n",
              "    .dataframe tbody tr th {\n",
              "        vertical-align: top;\n",
              "    }\n",
              "\n",
              "    .dataframe thead th {\n",
              "        text-align: right;\n",
              "    }\n",
              "</style>\n",
              "<table border=\"1\" class=\"dataframe\">\n",
              "  <thead>\n",
              "    <tr style=\"text-align: right;\">\n",
              "      <th>player</th>\n",
              "      <th>self</th>\n",
              "      <th>dad</th>\n",
              "      <th>mom</th>\n",
              "      <th>isabel</th>\n",
              "    </tr>\n",
              "  </thead>\n",
              "  <tbody>\n",
              "    <tr>\n",
              "      <th>mustard</th>\n",
              "      <td>0.0</td>\n",
              "      <td>NaN</td>\n",
              "      <td>NaN</td>\n",
              "      <td>NaN</td>\n",
              "    </tr>\n",
              "    <tr>\n",
              "      <th>plum</th>\n",
              "      <td>0.0</td>\n",
              "      <td>0.0</td>\n",
              "      <td>NaN</td>\n",
              "      <td>0.0</td>\n",
              "    </tr>\n",
              "    <tr>\n",
              "      <th>green</th>\n",
              "      <td>1.0</td>\n",
              "      <td>0.0</td>\n",
              "      <td>0.0</td>\n",
              "      <td>0.0</td>\n",
              "    </tr>\n",
              "    <tr>\n",
              "      <th>peacock</th>\n",
              "      <td>1.0</td>\n",
              "      <td>0.0</td>\n",
              "      <td>0.0</td>\n",
              "      <td>0.0</td>\n",
              "    </tr>\n",
              "    <tr>\n",
              "      <th>scarlet</th>\n",
              "      <td>0.0</td>\n",
              "      <td>1.0</td>\n",
              "      <td>0.0</td>\n",
              "      <td>0.0</td>\n",
              "    </tr>\n",
              "    <tr>\n",
              "      <th>white</th>\n",
              "      <td>1.0</td>\n",
              "      <td>0.0</td>\n",
              "      <td>0.0</td>\n",
              "      <td>0.0</td>\n",
              "    </tr>\n",
              "    <tr>\n",
              "      <th>knife</th>\n",
              "      <td>0.0</td>\n",
              "      <td>NaN</td>\n",
              "      <td>NaN</td>\n",
              "      <td>0.0</td>\n",
              "    </tr>\n",
              "    <tr>\n",
              "      <th>candlestick</th>\n",
              "      <td>0.0</td>\n",
              "      <td>0.0</td>\n",
              "      <td>1.0</td>\n",
              "      <td>0.0</td>\n",
              "    </tr>\n",
              "    <tr>\n",
              "      <th>revolver</th>\n",
              "      <td>0.0</td>\n",
              "      <td>0.0</td>\n",
              "      <td>0.0</td>\n",
              "      <td>0.0</td>\n",
              "    </tr>\n",
              "    <tr>\n",
              "      <th>rope</th>\n",
              "      <td>0.0</td>\n",
              "      <td>NaN</td>\n",
              "      <td>NaN</td>\n",
              "      <td>NaN</td>\n",
              "    </tr>\n",
              "    <tr>\n",
              "      <th>lead pipe</th>\n",
              "      <td>0.0</td>\n",
              "      <td>1.0</td>\n",
              "      <td>0.0</td>\n",
              "      <td>0.0</td>\n",
              "    </tr>\n",
              "    <tr>\n",
              "      <th>wrench</th>\n",
              "      <td>0.0</td>\n",
              "      <td>NaN</td>\n",
              "      <td>NaN</td>\n",
              "      <td>NaN</td>\n",
              "    </tr>\n",
              "    <tr>\n",
              "      <th>hall</th>\n",
              "      <td>0.0</td>\n",
              "      <td>NaN</td>\n",
              "      <td>NaN</td>\n",
              "      <td>NaN</td>\n",
              "    </tr>\n",
              "    <tr>\n",
              "      <th>lounge</th>\n",
              "      <td>0.0</td>\n",
              "      <td>0.0</td>\n",
              "      <td>1.0</td>\n",
              "      <td>0.0</td>\n",
              "    </tr>\n",
              "    <tr>\n",
              "      <th>dining room</th>\n",
              "      <td>0.0</td>\n",
              "      <td>0.0</td>\n",
              "      <td>0.0</td>\n",
              "      <td>0.0</td>\n",
              "    </tr>\n",
              "    <tr>\n",
              "      <th>kitchen</th>\n",
              "      <td>0.0</td>\n",
              "      <td>NaN</td>\n",
              "      <td>NaN</td>\n",
              "      <td>NaN</td>\n",
              "    </tr>\n",
              "    <tr>\n",
              "      <th>ballroom</th>\n",
              "      <td>0.0</td>\n",
              "      <td>0.0</td>\n",
              "      <td>1.0</td>\n",
              "      <td>0.0</td>\n",
              "    </tr>\n",
              "    <tr>\n",
              "      <th>conservatory</th>\n",
              "      <td>1.0</td>\n",
              "      <td>0.0</td>\n",
              "      <td>0.0</td>\n",
              "      <td>0.0</td>\n",
              "    </tr>\n",
              "    <tr>\n",
              "      <th>billiard room</th>\n",
              "      <td>0.0</td>\n",
              "      <td>NaN</td>\n",
              "      <td>NaN</td>\n",
              "      <td>NaN</td>\n",
              "    </tr>\n",
              "    <tr>\n",
              "      <th>library</th>\n",
              "      <td>0.0</td>\n",
              "      <td>NaN</td>\n",
              "      <td>NaN</td>\n",
              "      <td>NaN</td>\n",
              "    </tr>\n",
              "    <tr>\n",
              "      <th>study</th>\n",
              "      <td>0.0</td>\n",
              "      <td>NaN</td>\n",
              "      <td>NaN</td>\n",
              "      <td>NaN</td>\n",
              "    </tr>\n",
              "  </tbody>\n",
              "</table>\n",
              "</div>"
            ],
            "text/plain": [
              "player         self  dad  mom  isabel\n",
              "mustard         0.0  NaN  NaN     NaN\n",
              "plum            0.0  0.0  NaN     0.0\n",
              "green           1.0  0.0  0.0     0.0\n",
              "peacock         1.0  0.0  0.0     0.0\n",
              "scarlet         0.0  1.0  0.0     0.0\n",
              "white           1.0  0.0  0.0     0.0\n",
              "knife           0.0  NaN  NaN     0.0\n",
              "candlestick     0.0  0.0  1.0     0.0\n",
              "revolver        0.0  0.0  0.0     0.0\n",
              "rope            0.0  NaN  NaN     NaN\n",
              "lead pipe       0.0  1.0  0.0     0.0\n",
              "wrench          0.0  NaN  NaN     NaN\n",
              "hall            0.0  NaN  NaN     NaN\n",
              "lounge          0.0  0.0  1.0     0.0\n",
              "dining room     0.0  0.0  0.0     0.0\n",
              "kitchen         0.0  NaN  NaN     NaN\n",
              "ballroom        0.0  0.0  1.0     0.0\n",
              "conservatory    1.0  0.0  0.0     0.0\n",
              "billiard room   0.0  NaN  NaN     NaN\n",
              "library         0.0  NaN  NaN     NaN\n",
              "study           0.0  NaN  NaN     NaN"
            ]
          },
          "metadata": {
            "tags": []
          },
          "execution_count": 44
        }
      ]
    },
    {
      "cell_type": "markdown",
      "metadata": {
        "id": "-vya9WUB9Uby"
      },
      "source": [
        "Show all the took place in this game:"
      ]
    },
    {
      "cell_type": "code",
      "metadata": {
        "colab": {
          "base_uri": "https://localhost:8080/",
          "height": 657
        },
        "id": "Fzw3Cm7Rxv1Z",
        "outputId": "ec58182a-af8f-434e-9e88-6b92723a23f9"
      },
      "source": [
        "tmp.moves_hist()"
      ],
      "execution_count": 45,
      "outputs": [
        {
          "output_type": "execute_result",
          "data": {
            "text/html": [
              "<div>\n",
              "<style scoped>\n",
              "    .dataframe tbody tr th:only-of-type {\n",
              "        vertical-align: middle;\n",
              "    }\n",
              "\n",
              "    .dataframe tbody tr th {\n",
              "        vertical-align: top;\n",
              "    }\n",
              "\n",
              "    .dataframe thead th {\n",
              "        text-align: right;\n",
              "    }\n",
              "</style>\n",
              "<table border=\"1\" class=\"dataframe\">\n",
              "  <thead>\n",
              "    <tr style=\"text-align: right;\">\n",
              "      <th></th>\n",
              "      <th>player</th>\n",
              "      <th>person</th>\n",
              "      <th>weapon</th>\n",
              "      <th>room</th>\n",
              "      <th>responder</th>\n",
              "      <th>response</th>\n",
              "    </tr>\n",
              "  </thead>\n",
              "  <tbody>\n",
              "    <tr>\n",
              "      <th>0</th>\n",
              "      <td>dad</td>\n",
              "      <td>scarlet</td>\n",
              "      <td>lead pipe</td>\n",
              "      <td>lounge</td>\n",
              "      <td>mom</td>\n",
              "      <td>hidden</td>\n",
              "    </tr>\n",
              "    <tr>\n",
              "      <th>1</th>\n",
              "      <td>mom</td>\n",
              "      <td>plum</td>\n",
              "      <td>knife</td>\n",
              "      <td>conservatory</td>\n",
              "      <td>self</td>\n",
              "      <td>conservatory</td>\n",
              "    </tr>\n",
              "    <tr>\n",
              "      <th>2</th>\n",
              "      <td>isabel</td>\n",
              "      <td>plum</td>\n",
              "      <td>knife</td>\n",
              "      <td>billiard room</td>\n",
              "      <td>dad</td>\n",
              "      <td>hidden</td>\n",
              "    </tr>\n",
              "    <tr>\n",
              "      <th>3</th>\n",
              "      <td>self</td>\n",
              "      <td>white</td>\n",
              "      <td>lead pipe</td>\n",
              "      <td>study</td>\n",
              "      <td>dad</td>\n",
              "      <td>lead pipe</td>\n",
              "    </tr>\n",
              "    <tr>\n",
              "      <th>4</th>\n",
              "      <td>dad</td>\n",
              "      <td>scarlet</td>\n",
              "      <td>lead pipe</td>\n",
              "      <td>conservatory</td>\n",
              "      <td>self</td>\n",
              "      <td>conservatory</td>\n",
              "    </tr>\n",
              "    <tr>\n",
              "      <th>5</th>\n",
              "      <td>mom</td>\n",
              "      <td>scarlet</td>\n",
              "      <td>revolver</td>\n",
              "      <td>lounge</td>\n",
              "      <td>dad</td>\n",
              "      <td>hidden</td>\n",
              "    </tr>\n",
              "    <tr>\n",
              "      <th>6</th>\n",
              "      <td>isabel</td>\n",
              "      <td>scarlet</td>\n",
              "      <td>revolver</td>\n",
              "      <td>ballroom</td>\n",
              "      <td>dad</td>\n",
              "      <td>hidden</td>\n",
              "    </tr>\n",
              "    <tr>\n",
              "      <th>7</th>\n",
              "      <td>self</td>\n",
              "      <td>scarlet</td>\n",
              "      <td>revolver</td>\n",
              "      <td>study</td>\n",
              "      <td>dad</td>\n",
              "      <td>scarlet</td>\n",
              "    </tr>\n",
              "    <tr>\n",
              "      <th>8</th>\n",
              "      <td>dad</td>\n",
              "      <td>mustard</td>\n",
              "      <td>candlestick</td>\n",
              "      <td>ballroom</td>\n",
              "      <td>mom</td>\n",
              "      <td>hidden</td>\n",
              "    </tr>\n",
              "    <tr>\n",
              "      <th>9</th>\n",
              "      <td>mom</td>\n",
              "      <td>plum</td>\n",
              "      <td>knife</td>\n",
              "      <td>conservatory</td>\n",
              "      <td>self</td>\n",
              "      <td>conservatory</td>\n",
              "    </tr>\n",
              "    <tr>\n",
              "      <th>10</th>\n",
              "      <td>isabel</td>\n",
              "      <td>white</td>\n",
              "      <td>revolver</td>\n",
              "      <td>hall</td>\n",
              "      <td>self</td>\n",
              "      <td>white</td>\n",
              "    </tr>\n",
              "    <tr>\n",
              "      <th>11</th>\n",
              "      <td>self</td>\n",
              "      <td>green</td>\n",
              "      <td>revolver</td>\n",
              "      <td>ballroom</td>\n",
              "      <td>mom</td>\n",
              "      <td>ballroom</td>\n",
              "    </tr>\n",
              "    <tr>\n",
              "      <th>12</th>\n",
              "      <td>dad</td>\n",
              "      <td>mustard</td>\n",
              "      <td>rope</td>\n",
              "      <td>ballroom</td>\n",
              "      <td>mom</td>\n",
              "      <td>hidden</td>\n",
              "    </tr>\n",
              "    <tr>\n",
              "      <th>13</th>\n",
              "      <td>mom</td>\n",
              "      <td>plum</td>\n",
              "      <td>rope</td>\n",
              "      <td>dining room</td>\n",
              "      <td>isabel</td>\n",
              "      <td>hidden</td>\n",
              "    </tr>\n",
              "    <tr>\n",
              "      <th>14</th>\n",
              "      <td>isabel</td>\n",
              "      <td>green</td>\n",
              "      <td>candlestick</td>\n",
              "      <td>dining room</td>\n",
              "      <td>self</td>\n",
              "      <td>green</td>\n",
              "    </tr>\n",
              "    <tr>\n",
              "      <th>15</th>\n",
              "      <td>self</td>\n",
              "      <td>green</td>\n",
              "      <td>candlestick</td>\n",
              "      <td>dining room</td>\n",
              "      <td>mom</td>\n",
              "      <td>candlestick</td>\n",
              "    </tr>\n",
              "    <tr>\n",
              "      <th>16</th>\n",
              "      <td>dad</td>\n",
              "      <td>peacock</td>\n",
              "      <td>wrench</td>\n",
              "      <td>ballroom</td>\n",
              "      <td>mom</td>\n",
              "      <td>hidden</td>\n",
              "    </tr>\n",
              "    <tr>\n",
              "      <th>17</th>\n",
              "      <td>mom</td>\n",
              "      <td>plum</td>\n",
              "      <td>candlestick</td>\n",
              "      <td>dining room</td>\n",
              "      <td>None</td>\n",
              "      <td>None</td>\n",
              "    </tr>\n",
              "    <tr>\n",
              "      <th>18</th>\n",
              "      <td>isabel</td>\n",
              "      <td>peacock</td>\n",
              "      <td>lead pipe</td>\n",
              "      <td>ballroom</td>\n",
              "      <td>self</td>\n",
              "      <td>peacock</td>\n",
              "    </tr>\n",
              "    <tr>\n",
              "      <th>19</th>\n",
              "      <td>self</td>\n",
              "      <td>peacock</td>\n",
              "      <td>revolver</td>\n",
              "      <td>dining room</td>\n",
              "      <td>None</td>\n",
              "      <td>None</td>\n",
              "    </tr>\n",
              "  </tbody>\n",
              "</table>\n",
              "</div>"
            ],
            "text/plain": [
              "    player   person       weapon           room responder      response\n",
              "0      dad  scarlet    lead pipe         lounge       mom        hidden\n",
              "1      mom     plum        knife   conservatory      self  conservatory\n",
              "2   isabel     plum        knife  billiard room       dad        hidden\n",
              "3     self    white    lead pipe          study       dad     lead pipe\n",
              "4      dad  scarlet    lead pipe   conservatory      self  conservatory\n",
              "5      mom  scarlet     revolver         lounge       dad        hidden\n",
              "6   isabel  scarlet     revolver       ballroom       dad        hidden\n",
              "7     self  scarlet     revolver          study       dad       scarlet\n",
              "8      dad  mustard  candlestick       ballroom       mom        hidden\n",
              "9      mom     plum        knife   conservatory      self  conservatory\n",
              "10  isabel    white     revolver           hall      self         white\n",
              "11    self    green     revolver       ballroom       mom      ballroom\n",
              "12     dad  mustard         rope       ballroom       mom        hidden\n",
              "13     mom     plum         rope    dining room    isabel        hidden\n",
              "14  isabel    green  candlestick    dining room      self         green\n",
              "15    self    green  candlestick    dining room       mom   candlestick\n",
              "16     dad  peacock       wrench       ballroom       mom        hidden\n",
              "17     mom     plum  candlestick    dining room      None          None\n",
              "18  isabel  peacock    lead pipe       ballroom      self       peacock\n",
              "19    self  peacock     revolver    dining room      None          None"
            ]
          },
          "metadata": {
            "tags": []
          },
          "execution_count": 45
        }
      ]
    },
    {
      "cell_type": "markdown",
      "metadata": {
        "id": "OdIKkNfl-s0b"
      },
      "source": [
        "Here's the partial info we had"
      ]
    },
    {
      "cell_type": "code",
      "metadata": {
        "colab": {
          "base_uri": "https://localhost:8080/",
          "height": 688
        },
        "id": "yY5phYxynr-2",
        "outputId": "4bfe5eda-4fc8-46b9-92dd-21fbdb01a6d5"
      },
      "source": [
        "tmp.hand_status()[1]"
      ],
      "execution_count": 46,
      "outputs": [
        {
          "output_type": "execute_result",
          "data": {
            "text/html": [
              "<div>\n",
              "<style scoped>\n",
              "    .dataframe tbody tr th:only-of-type {\n",
              "        vertical-align: middle;\n",
              "    }\n",
              "\n",
              "    .dataframe tbody tr th {\n",
              "        vertical-align: top;\n",
              "    }\n",
              "\n",
              "    .dataframe thead th {\n",
              "        text-align: right;\n",
              "    }\n",
              "</style>\n",
              "<table border=\"1\" class=\"dataframe\">\n",
              "  <thead>\n",
              "    <tr style=\"text-align: right;\">\n",
              "      <th>player</th>\n",
              "      <th>self</th>\n",
              "      <th>dad</th>\n",
              "      <th>mom</th>\n",
              "      <th>isabel</th>\n",
              "    </tr>\n",
              "  </thead>\n",
              "  <tbody>\n",
              "    <tr>\n",
              "      <th>mustard</th>\n",
              "      <td>[]</td>\n",
              "      <td>[]</td>\n",
              "      <td>[4]</td>\n",
              "      <td>[]</td>\n",
              "    </tr>\n",
              "    <tr>\n",
              "      <th>plum</th>\n",
              "      <td>[]</td>\n",
              "      <td>[1]</td>\n",
              "      <td>[]</td>\n",
              "      <td>[]</td>\n",
              "    </tr>\n",
              "    <tr>\n",
              "      <th>green</th>\n",
              "      <td>[]</td>\n",
              "      <td>[]</td>\n",
              "      <td>[]</td>\n",
              "      <td>[]</td>\n",
              "    </tr>\n",
              "    <tr>\n",
              "      <th>peacock</th>\n",
              "      <td>[]</td>\n",
              "      <td>[]</td>\n",
              "      <td>[]</td>\n",
              "      <td>[]</td>\n",
              "    </tr>\n",
              "    <tr>\n",
              "      <th>scarlet</th>\n",
              "      <td>[]</td>\n",
              "      <td>[2, 3]</td>\n",
              "      <td>[]</td>\n",
              "      <td>[]</td>\n",
              "    </tr>\n",
              "    <tr>\n",
              "      <th>white</th>\n",
              "      <td>[]</td>\n",
              "      <td>[]</td>\n",
              "      <td>[]</td>\n",
              "      <td>[]</td>\n",
              "    </tr>\n",
              "    <tr>\n",
              "      <th>knife</th>\n",
              "      <td>[]</td>\n",
              "      <td>[1]</td>\n",
              "      <td>[]</td>\n",
              "      <td>[]</td>\n",
              "    </tr>\n",
              "    <tr>\n",
              "      <th>candlestick</th>\n",
              "      <td>[]</td>\n",
              "      <td>[]</td>\n",
              "      <td>[4]</td>\n",
              "      <td>[]</td>\n",
              "    </tr>\n",
              "    <tr>\n",
              "      <th>revolver</th>\n",
              "      <td>[]</td>\n",
              "      <td>[2, 3]</td>\n",
              "      <td>[]</td>\n",
              "      <td>[]</td>\n",
              "    </tr>\n",
              "    <tr>\n",
              "      <th>rope</th>\n",
              "      <td>[]</td>\n",
              "      <td>[]</td>\n",
              "      <td>[]</td>\n",
              "      <td>[6]</td>\n",
              "    </tr>\n",
              "    <tr>\n",
              "      <th>lead pipe</th>\n",
              "      <td>[]</td>\n",
              "      <td>[]</td>\n",
              "      <td>[]</td>\n",
              "      <td>[]</td>\n",
              "    </tr>\n",
              "    <tr>\n",
              "      <th>wrench</th>\n",
              "      <td>[]</td>\n",
              "      <td>[]</td>\n",
              "      <td>[]</td>\n",
              "      <td>[]</td>\n",
              "    </tr>\n",
              "    <tr>\n",
              "      <th>hall</th>\n",
              "      <td>[]</td>\n",
              "      <td>[]</td>\n",
              "      <td>[]</td>\n",
              "      <td>[]</td>\n",
              "    </tr>\n",
              "    <tr>\n",
              "      <th>lounge</th>\n",
              "      <td>[]</td>\n",
              "      <td>[]</td>\n",
              "      <td>[]</td>\n",
              "      <td>[]</td>\n",
              "    </tr>\n",
              "    <tr>\n",
              "      <th>dining room</th>\n",
              "      <td>[]</td>\n",
              "      <td>[]</td>\n",
              "      <td>[]</td>\n",
              "      <td>[6]</td>\n",
              "    </tr>\n",
              "    <tr>\n",
              "      <th>kitchen</th>\n",
              "      <td>[]</td>\n",
              "      <td>[]</td>\n",
              "      <td>[]</td>\n",
              "      <td>[]</td>\n",
              "    </tr>\n",
              "    <tr>\n",
              "      <th>ballroom</th>\n",
              "      <td>[]</td>\n",
              "      <td>[]</td>\n",
              "      <td>[4]</td>\n",
              "      <td>[]</td>\n",
              "    </tr>\n",
              "    <tr>\n",
              "      <th>conservatory</th>\n",
              "      <td>[]</td>\n",
              "      <td>[]</td>\n",
              "      <td>[]</td>\n",
              "      <td>[]</td>\n",
              "    </tr>\n",
              "    <tr>\n",
              "      <th>billiard room</th>\n",
              "      <td>[]</td>\n",
              "      <td>[1]</td>\n",
              "      <td>[]</td>\n",
              "      <td>[]</td>\n",
              "    </tr>\n",
              "    <tr>\n",
              "      <th>library</th>\n",
              "      <td>[]</td>\n",
              "      <td>[]</td>\n",
              "      <td>[]</td>\n",
              "      <td>[]</td>\n",
              "    </tr>\n",
              "    <tr>\n",
              "      <th>study</th>\n",
              "      <td>[]</td>\n",
              "      <td>[]</td>\n",
              "      <td>[]</td>\n",
              "      <td>[]</td>\n",
              "    </tr>\n",
              "  </tbody>\n",
              "</table>\n",
              "</div>"
            ],
            "text/plain": [
              "player        self     dad  mom isabel\n",
              "mustard         []      []  [4]     []\n",
              "plum            []     [1]   []     []\n",
              "green           []      []   []     []\n",
              "peacock         []      []   []     []\n",
              "scarlet         []  [2, 3]   []     []\n",
              "white           []      []   []     []\n",
              "knife           []     [1]   []     []\n",
              "candlestick     []      []  [4]     []\n",
              "revolver        []  [2, 3]   []     []\n",
              "rope            []      []   []    [6]\n",
              "lead pipe       []      []   []     []\n",
              "wrench          []      []   []     []\n",
              "hall            []      []   []     []\n",
              "lounge          []      []   []     []\n",
              "dining room     []      []   []    [6]\n",
              "kitchen         []      []   []     []\n",
              "ballroom        []      []  [4]     []\n",
              "conservatory    []      []   []     []\n",
              "billiard room   []     [1]   []     []\n",
              "library         []      []   []     []\n",
              "study           []      []   []     []"
            ]
          },
          "metadata": {
            "tags": []
          },
          "execution_count": 46
        }
      ]
    },
    {
      "cell_type": "markdown",
      "metadata": {
        "id": "IEky8lxb-uVP"
      },
      "source": [
        "## Your game here"
      ]
    },
    {
      "cell_type": "markdown",
      "metadata": {
        "id": "ISkJDDRT-7uI"
      },
      "source": [
        "See \"the basics / example game\" for more details."
      ]
    },
    {
      "cell_type": "code",
      "metadata": {
        "id": "fyoAcGKA-wbX"
      },
      "source": [
        "# Create the game:\r\n",
        "# write in your player names\r\n",
        "# write in your starting cards\r\n",
        "tmp = Clue_Game(players = ['player 1','player 2','player 3'], initial_cards=[])"
      ],
      "execution_count": null,
      "outputs": []
    },
    {
      "cell_type": "markdown",
      "metadata": {
        "id": "rdDppB3i_LgR"
      },
      "source": [
        "Record moves"
      ]
    },
    {
      "cell_type": "code",
      "metadata": {
        "id": "fAwKKTeD_BAv"
      },
      "source": [
        "tmp.move(player=, person=, weapon=, responder=, response=)"
      ],
      "execution_count": null,
      "outputs": []
    }
  ]
}
